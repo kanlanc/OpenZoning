{
 "cells": [
  {
   "cell_type": "code",
   "metadata": {
    "tags": [],
    "cell_id": "72e37cf9-bd4e-4859-8d68-56047ec8a8f3",
    "deepnote_to_be_reexecuted": false,
    "source_hash": "dcefc3fe",
    "execution_start": 1658755727625,
    "execution_millis": 1,
    "deepnote_cell_type": "code",
    "deepnote_cell_height": 135
   },
   "source": "import pandas as pd\n\nfile_Berlin = 'Berlin zoning data.csv'\ndf_Berlin = pd.read_csv(file_Berlin)",
   "execution_count": 1,
   "outputs": []
  },
  {
   "cell_type": "code",
   "metadata": {
    "cell_id": "64f394f9985041e0bbfb94323ac1a500",
    "tags": [],
    "deepnote_to_be_reexecuted": false,
    "source_hash": "b08aff61",
    "execution_start": 1658755727626,
    "execution_millis": 225,
    "deepnote_cell_type": "code",
    "deepnote_cell_height": 454
   },
   "source": "c = 1\nfor ind, col in enumerate(df_Berlin):\n    if c == 11:\n        print(col)\n    c += 1\n\nsingle_colInd = [11, 12, 13, 38, 39, 40, 41, 42, 58, 59, 60]\ntwo_colInd = [14, 15, 16, 17, 18, 43, 44, 45, 46, 47, 61, 62, 63]\nthree_colInd = [19, 20, 21, 22, 23, 24, 48, 49, 50, 51, 52, 64, 65, 66]\nmulti_colInd = [28, 29, 30, 31, 32, 33, 34, 53, 54, 55, 56, 57, 67, 68, 69]\n\nsingleFamily_constraintList = ['lotArea', 'dwellingFootprint', 'parkingSpaces', 'FAR', 'stories', 'height', ['impLotCoverage', 'building', 'buildingPavement'], ['setbacks', 'front', 'side', 'rear']]\ntwoFamily_constraintList = ['lotArea', 'unitsPerAcre', 'dwellingFootprint', ['parkingSpaces', 'perLoft/1bdr', 'per2bdr'],'FAR', 'stories', 'height', ['impLotCoverage', 'building', 'buildingPavement'], ['setbacks', 'front', 'side', 'rear']]\nthreeFamily_constraintList = ['lotArea', 'unitsPerAcre', 'dwellingFootprint', ['parkingSpaces', 'perLoft/1bdr', 'per2bdr'],'numBedsPerUnit', 'FAR', 'stories', 'height', ['impLotCoverage', 'building', 'buildingPavement'], ['setbacks', 'front', 'side', 'rear']]\nmultiFamily_constraintList = ['lotArea', 'unitsPerAcre', 'dwellingFootprint', ['parkingSpaces', 'perLoft/1bdr', 'per2bdr'],'numBedsPerUnit','numBuildsPerUnit', 'FAR', 'stories', 'height', ['impLotCoverage', 'building', 'buildingPavement'], ['setbacks', 'front', 'side', 'rear']]\n\nallConstraintLists = [singleFamily_constraintList, twoFamily_constraintList, threeFamily_constraintList, multiFamily_constraintList]\n\n\n",
   "execution_count": 2,
   "outputs": [
    {
     "name": "stdout",
     "text": "1-Family Min. Lot (ACRES)\n",
     "output_type": "stream"
    }
   ]
  },
  {
   "cell_type": "code",
   "metadata": {
    "cell_id": "cc4c07f2732949cf868112cc26cbe256",
    "tags": [],
    "deepnote_to_be_reexecuted": false,
    "source_hash": "5e34cd71",
    "execution_start": 1658755727671,
    "execution_millis": 503229434,
    "deepnote_cell_type": "code",
    "deepnote_cell_height": 207
   },
   "source": "def distAbbrFun(distAbbr):\n    df_allDistricts[distAbbr] = {}\n    df_allDistricts[distAbbr]['single-family'] = {}\n    df_allDistricts[distAbbr]['two-family'] = {}\n    df_allDistricts[distAbbr]['three-family'] = {}\n    df_allDistricts[distAbbr]['multi-family'] = {}\n    return(distAbbr)\n",
   "execution_count": 3,
   "outputs": []
  },
  {
   "cell_type": "code",
   "metadata": {
    "cell_id": "bb37f5d3abc64e788319c5b5596d207d",
    "tags": [],
    "deepnote_to_be_reexecuted": false,
    "source_hash": "16970f8d",
    "execution_start": 1658755727672,
    "execution_millis": 499725075,
    "deepnote_cell_type": "code",
    "deepnote_cell_height": 495
   },
   "source": "def assigningUseValues(c_con, distAbbr, value, useTitle, conName):\n    if isinstance(conName, list):\n        listLen = len(conName)\n        if c_con == 0:\n            df_allDistricts[distAbbr][useTitle][conName[0]] = {}\n            c_con += 1\n        conNameTemp = conName[c_con]\n        df_allDistricts[distAbbr][useTitle][conName[0]][conNameTemp] = {}\n        df_allDistricts[distAbbr][useTitle][conName[0]][conNameTemp]['value'] = value\n        #print(df_allDistricts[distAbbr]['single-family'][conName[0]][conNameTemp]['value'])\n        c_conP = c_con + 1\n        if c_conP == listLen:\n            c_con = 0\n            c_conP = 0\n        else:\n            c_con += 1 \n            c_conP = -1\n    else:\n        df_allDistricts[distAbbr][useTitle][conName] = {}\n        df_allDistricts[distAbbr][useTitle][conName]['value'] = value\n        c_conP = 0\n    return(c_con, c_conP)\n\n",
   "execution_count": 4,
   "outputs": []
  },
  {
   "cell_type": "code",
   "metadata": {
    "cell_id": "2af795ce68df46e9ad45985de1b8eab6",
    "tags": [],
    "deepnote_to_be_reexecuted": false,
    "source_hash": "251d8079",
    "execution_start": 1658755763028,
    "execution_millis": 62,
    "owner_user_id": "7e65427b-469e-4e83-96ea-4cb95de11c5a",
    "deepnote_cell_type": "code",
    "deepnote_cell_height": 1655
   },
   "source": "df_allDistricts = {}\n\n\nc_con = 0\nc_row = 0\n\nfor row in df_Berlin.iloc():\n    distAbbr = row['AbbreviatedDistrict']\n    distAbbrFun(distAbbr)\n    ind_1 = 0\n    ind_2 = 0\n    ind_3 = 0\n    ind_4 = 0\n    for ind, value in enumerate(row):\n        indP = ind + 1\n        trashInd = [0, 1, 2, 3, 4, 5, 6, 7, 8, 9, 10]\n        if indP in trashInd:\n            pass\n        elif indP in single_colInd:\n            useTitle = 'single-family'\n            indNum = single_colInd.index(indP)\n            indNum = indNum + ind_1\n            conName = singleFamily_constraintList[indNum]\n            indAddVal = assigningUseValues(c_con, distAbbr, value, useTitle, conName)\n            c_con = indAddVal[0]\n            ind_1 += indAddVal[1]\n        elif indP in two_colInd:\n            useTitle = 'two-family'\n            indNum = two_colInd.index(indP)\n            indNum = indNum + ind_2\n            #print(indNum)\n            conName = twoFamily_constraintList[indNum]\n            indAddVal = assigningUseValues(c_con, distAbbr, value, useTitle, conName)\n            c_con = indAddVal[0]\n            ind_2 += indAddVal[1]\n        elif indP in three_colInd:\n            useTitle = 'three-family'\n            indNum = three_colInd.index(indP)\n            indNum = indNum + ind_3\n            conName = threeFamily_constraintList[indNum]\n            indAddVal = assigningUseValues(c_con, distAbbr, value, useTitle, conName)\n            c_con = indAddVal[0]\n            ind_3 += indAddVal[1]\n        elif indP in multi_colInd:\n            useTitle = 'multi-family'\n            indNum = multi_colInd.index(indP)\n            indNum = indNum + ind_4\n            conName = multiFamily_constraintList[indNum]\n            indAddVal = assigningUseValues(c_con, distAbbr, value, useTitle, conName)\n            c_con = indAddVal[0]\n            ind_4 += indAddVal[1]\n\n#print(df_allDistricts)",
   "execution_count": 7,
   "outputs": []
  },
  {
   "cell_type": "code",
   "metadata": {
    "cell_id": "181d27d7b5b94c6a832538b5a252f5d6",
    "tags": [],
    "deepnote_to_be_reexecuted": false,
    "source_hash": "b63d7adc",
    "execution_start": 1658755727715,
    "execution_millis": 138,
    "deepnote_cell_type": "code",
    "deepnote_cell_height": 719
   },
   "source": "from pprint import pprint\npprint(df_allDistricts['KO'])",
   "execution_count": 6,
   "outputs": [
    {
     "name": "stdout",
     "text": "{'multi-family': {'FAR': {'value': nan},\n                  'dwellingFootprint': {'value': '600/0BR, 750/1BR, 900/2BR'},\n                  'height': {'value': nan},\n                  'impLotCoverage': {'building': {'value': nan},\n                                     'buildingPavement': {'value': nan}},\n                  'lotArea': {'value': 1.0},\n                  'numBedsPerUnit': {'value': nan},\n                  'numBuildsPerUnit': {'value': nan},\n                  'parkingSpaces': {'per2bdr': {'value': 2.0},\n                                    'perLoft/1bdr': {'value': 2.0}},\n                  'setbacks': {'front': {'value': nan},\n                               'rear': {'value': nan},\n                               'side': {'value': nan}},\n                  'stories': {'value': nan},\n                  'unitsPerAcre': {'value': 6.0}},\n 'single-family': {'FAR': {'value': nan},\n                   'dwellingFootprint': {'value': nan},\n                   'height': {'value': nan},\n                   'impLotCoverage': {'building': {'value': nan},\n                                      'buildingPavement': {'value': nan}},\n                   'lotArea': {'value': nan},\n                   'parkingSpaces': {'value': nan},\n                   'setbacks': {'front': {'value': nan},\n                                'rear': {'value': nan},\n                                'side': {'value': nan}},\n                   'stories': {'value': nan}},\n 'three-family': {'FAR': {'value': nan},\n                  'dwellingFootprint': {'value': '600/0BR, 750/1BR, 900/2BR'},\n                  'height': {'value': nan},\n                  'impLotCoverage': {'building': {'value': nan},\n                                     'buildingPavement': {'value': nan}},\n                  'lotArea': {'value': '1.00'},\n                  'numBedsPerUnit': {'value': nan},\n                  'parkingSpaces': {'per2bdr': {'value': 2.0},\n                                    'perLoft/1bdr': {'value': 2.0}},\n                  'setbacks': {'front': {'value': nan},\n                               'rear': {'value': nan},\n                               'side': {'value': nan}},\n                  'stories': {'value': nan},\n                  'unitsPerAcre': {'value': 6.0}},\n 'two-family': {'FAR': {'value': nan},\n                'dwellingFootprint': {'value': nan},\n                'height': {'value': nan},\n                'impLotCoverage': {'building': {'value': nan},\n                                   'buildingPavement': {'value': nan}},\n                'lotArea': {'value': nan},\n                'parkingSpaces': {'per2bdr': {'value': nan},\n                                  'perLoft/1bdr': {'value': nan}},\n                'setbacks': {'front': {'value': nan},\n                             'rear': {'value': nan},\n                             'side': {'value': nan}},\n                'stories': {'value': nan},\n                'unitsPerAcre': {'value': nan}}}\n",
     "output_type": "stream"
    }
   ]
  },
  {
   "cell_type": "markdown",
   "source": "<a style='text-decoration:none;line-height:16px;display:flex;color:#5B5B62;padding:10px;justify-content:end;' href='https://deepnote.com?utm_source=created-in-deepnote-cell&projectId=48c4d47e-f1a2-42c1-8fad-502aeca32a9b' target=\"_blank\">\n<img alt='Created in deepnote.com' style='display:inline;max-height:16px;margin:0px;margin-right:7.5px;' src='data:image/svg+xml;base64,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' > </img>\nCreated in <span style='font-weight:600;margin-left:4px;'>Deepnote</span></a>",
   "metadata": {
    "tags": [],
    "created_in_deepnote_cell": true,
    "deepnote_cell_type": "markdown"
   }
  }
 ],
 "nbformat": 4,
 "nbformat_minor": 2,
 "metadata": {
  "orig_nbformat": 2,
  "deepnote": {},
  "deepnote_notebook_id": "cf1a5223-eadf-498b-9c07-7912dcea0460",
  "deepnote_execution_queue": []
 }
}